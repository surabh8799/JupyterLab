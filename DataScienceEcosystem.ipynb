{
 "cells": [
  {
   "cell_type": "markdown",
   "id": "c9e39ff0-11be-4082-9f2e-9aeb027313f7",
   "metadata": {
    "tags": []
   },
   "source": [
    "# Data Science Tools and Ecosystem"
   ]
  },
  {
   "cell_type": "markdown",
   "id": "081b04a5-d575-444d-9343-7021fe087901",
   "metadata": {},
   "source": [
    "In this notebook, Data Science Tools and Ecosystem are summarized."
   ]
  },
  {
   "cell_type": "markdown",
   "id": "33ab2ea1-30b5-4d05-81bd-a0a3b613e652",
   "metadata": {},
   "source": [
    "**Objectives:**\n",
    "* Popular Languages for Data Science:\n",
    "    * Python \n",
    "    * R \n",
    "    * Scala\n",
    "* Open Source Development Environment:\n",
    "    * Jupyter Notebook\n",
    "    * Spyder\n",
    "    * Apache Zeppelin\n",
    "* Some Data Visualizations Tools:\n",
    "    * Tableau\n",
    "    * Power BI\n",
    "    * Watson Studios"
   ]
  },
  {
   "cell_type": "markdown",
   "id": "e09d8fe8-e57a-42b6-8a2b-eb26d796dfab",
   "metadata": {},
   "source": [
    "Some of the popular languages that Data Scientists use are:<br>1. Python<br>2. R<br>3. Scala"
   ]
  },
  {
   "cell_type": "markdown",
   "id": "a52d2f78-ae5c-4c61-88c4-70eda7d18f99",
   "metadata": {},
   "source": [
    "Some of the commonly used libraries used by Data Scientists include:<br>1. pandas<br>2. numpy<br>3. matplotlib"
   ]
  },
  {
   "cell_type": "markdown",
   "id": "3de58238-e104-4fa7-96a6-3de4bda9a1ad",
   "metadata": {},
   "source": [
    "| Data Science Tools |\n",
    "| :----------------: |\n",
    "| Jupyter Notebook |\n",
    "| Apache Zeppelin |\n",
    "| Spyder |"
   ]
  },
  {
   "cell_type": "markdown",
   "id": "d830358e-a53f-466f-b00e-3bb01fbb0f16",
   "metadata": {
    "tags": []
   },
   "source": [
    "### Below are a few examples of evaluating arithmetic expressions in Python\n",
    "2+3<br>\n",
    "2*3<br>\n",
    "3-2<br>\n",
    "3/2"
   ]
  },
  {
   "cell_type": "code",
   "execution_count": 2,
   "id": "0845658e-be58-4b88-b496-09701c7f80ff",
   "metadata": {
    "tags": []
   },
   "outputs": [
    {
     "data": {
      "text/plain": [
       "17"
      ]
     },
     "execution_count": 2,
     "metadata": {},
     "output_type": "execute_result"
    }
   ],
   "source": [
    "#This a simple arithmetic expression to mutiply then add integers\n",
    "(3*4)+5"
   ]
  },
  {
   "cell_type": "code",
   "execution_count": 3,
   "id": "30d30dfc-697c-418f-8fbe-c3d6033b5153",
   "metadata": {
    "tags": []
   },
   "outputs": [
    {
     "data": {
      "text/plain": [
       "3.3333333333333335"
      ]
     },
     "execution_count": 3,
     "metadata": {},
     "output_type": "execute_result"
    }
   ],
   "source": [
    "#This will convert 200 minutes to hours by diving by 60\n",
    "200/60"
   ]
  },
  {
   "cell_type": "markdown",
   "id": "22870ce0-f671-4087-a5eb-d53ac4603002",
   "metadata": {},
   "source": [
    "## Author\n",
    "Surabh Saxena"
   ]
  },
  {
   "cell_type": "code",
   "execution_count": null,
   "id": "8903c688-c2e3-433a-b7bc-5cfe78a7641b",
   "metadata": {},
   "outputs": [],
   "source": []
  }
 ],
 "metadata": {
  "kernelspec": {
   "display_name": "Python",
   "language": "python",
   "name": "conda-env-python-py"
  },
  "language_info": {
   "codemirror_mode": {
    "name": "ipython",
    "version": 3
   },
   "file_extension": ".py",
   "mimetype": "text/x-python",
   "name": "python",
   "nbconvert_exporter": "python",
   "pygments_lexer": "ipython3",
   "version": "3.7.12"
  }
 },
 "nbformat": 4,
 "nbformat_minor": 5
}
